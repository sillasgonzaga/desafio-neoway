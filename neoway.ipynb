{
 "cells": [
  {
   "cell_type": "markdown",
   "id": "6f39780a-dea7-40d1-bc28-687780008e1b",
   "metadata": {},
   "source": [
    "# Product Data Science - NLP Test - Sillas Gonzaga\n",
    "\n",
    "\n",
    "Este documento contem minha proposta de solução para o desafio de Data Science.\n",
    "\n"
   ]
  },
  {
   "cell_type": "markdown",
   "id": "1c218e59-d2ad-4a83-becb-7e839a7ddf16",
   "metadata": {},
   "source": [
    "# Importação de módulos"
   ]
  },
  {
   "cell_type": "code",
   "execution_count": 1,
   "id": "be7075c6-466f-47e7-bb9e-f5381ddd6d15",
   "metadata": {
    "tags": []
   },
   "outputs": [],
   "source": [
    "import pandas as pd\n",
    "import numpy as np\n",
    "import matplotlib.pyplot as plt\n",
    "import seaborn as sns\n",
    "from sklearn.model_selection import train_test_split\n",
    "from sklearn.feature_extraction.text import TfidfVectorizer\n",
    "import lightgbm as lgb\n",
    "from sklearn import metrics\n",
    "from typing import Any, List, Dict, Union\n",
    "import xgboost as xgb\n",
    "from sklearn.model_selection import GridSearchCV\n",
    "from scipy.sparse import csr_matrix"
   ]
  },
  {
   "cell_type": "markdown",
   "id": "32689fbf-511f-40e6-a237-e2825fe036fc",
   "metadata": {},
   "source": [
    "# Importação dos dados e EDA"
   ]
  },
  {
   "cell_type": "code",
   "execution_count": 2,
   "id": "688cb26e-101c-43f3-a9ad-c69afa95d82c",
   "metadata": {
    "tags": []
   },
   "outputs": [
    {
     "name": "stderr",
     "output_type": "stream",
     "text": [
      "/tmp/ipykernel_57156/1153590322.py:1: DtypeWarning: Columns (2) have mixed types. Specify dtype option on import or set low_memory=False.\n",
      "  df = pd.read_csv('B2W-Reviews01.csv')\n"
     ]
    }
   ],
   "source": [
    "df = pd.read_csv('B2W-Reviews01.csv')"
   ]
  },
  {
   "cell_type": "code",
   "execution_count": 3,
   "id": "c4a664f7-1d4b-434e-ab02-f16995b8d47e",
   "metadata": {
    "tags": []
   },
   "outputs": [
    {
     "data": {
      "text/html": [
       "<div>\n",
       "<style scoped>\n",
       "    .dataframe tbody tr th:only-of-type {\n",
       "        vertical-align: middle;\n",
       "    }\n",
       "\n",
       "    .dataframe tbody tr th {\n",
       "        vertical-align: top;\n",
       "    }\n",
       "\n",
       "    .dataframe thead th {\n",
       "        text-align: right;\n",
       "    }\n",
       "</style>\n",
       "<table border=\"1\" class=\"dataframe\">\n",
       "  <thead>\n",
       "    <tr style=\"text-align: right;\">\n",
       "      <th></th>\n",
       "      <th>submission_date</th>\n",
       "      <th>reviewer_id</th>\n",
       "      <th>product_id</th>\n",
       "      <th>product_name</th>\n",
       "      <th>product_brand</th>\n",
       "      <th>site_category_lv1</th>\n",
       "      <th>site_category_lv2</th>\n",
       "      <th>review_title</th>\n",
       "      <th>overall_rating</th>\n",
       "      <th>recommend_to_a_friend</th>\n",
       "      <th>review_text</th>\n",
       "      <th>reviewer_birth_year</th>\n",
       "      <th>reviewer_gender</th>\n",
       "      <th>reviewer_state</th>\n",
       "    </tr>\n",
       "  </thead>\n",
       "  <tbody>\n",
       "    <tr>\n",
       "      <th>0</th>\n",
       "      <td>2018-01-01 00:11:28</td>\n",
       "      <td>d0fb1ca69422530334178f5c8624aa7a99da47907c44de...</td>\n",
       "      <td>132532965</td>\n",
       "      <td>Notebook Asus Vivobook Max X541NA-GO472T Intel...</td>\n",
       "      <td>NaN</td>\n",
       "      <td>Informática</td>\n",
       "      <td>Notebook</td>\n",
       "      <td>Bom</td>\n",
       "      <td>4</td>\n",
       "      <td>Yes</td>\n",
       "      <td>Estou contente com a compra entrega rápida o ú...</td>\n",
       "      <td>1958.0</td>\n",
       "      <td>F</td>\n",
       "      <td>RJ</td>\n",
       "    </tr>\n",
       "    <tr>\n",
       "      <th>1</th>\n",
       "      <td>2018-01-01 00:13:48</td>\n",
       "      <td>014d6dc5a10aed1ff1e6f349fb2b059a2d3de511c7538a...</td>\n",
       "      <td>22562178</td>\n",
       "      <td>Copo Acrílico Com Canudo 500ml Rocie</td>\n",
       "      <td>NaN</td>\n",
       "      <td>Utilidades Domésticas</td>\n",
       "      <td>Copos, Taças e Canecas</td>\n",
       "      <td>Preço imbatível, ótima qualidade</td>\n",
       "      <td>4</td>\n",
       "      <td>Yes</td>\n",
       "      <td>Por apenas R$1994.20,eu consegui comprar esse ...</td>\n",
       "      <td>1996.0</td>\n",
       "      <td>M</td>\n",
       "      <td>SC</td>\n",
       "    </tr>\n",
       "    <tr>\n",
       "      <th>2</th>\n",
       "      <td>2018-01-01 00:26:02</td>\n",
       "      <td>44f2c8edd93471926fff601274b8b2b5c4824e386ae4f2...</td>\n",
       "      <td>113022329</td>\n",
       "      <td>Panela de Pressão Elétrica Philips Walita Dail...</td>\n",
       "      <td>philips walita</td>\n",
       "      <td>Eletroportáteis</td>\n",
       "      <td>Panela Elétrica</td>\n",
       "      <td>ATENDE TODAS AS EXPECTATIVA.</td>\n",
       "      <td>4</td>\n",
       "      <td>Yes</td>\n",
       "      <td>SUPERA EM AGILIDADE E PRATICIDADE OUTRAS PANEL...</td>\n",
       "      <td>1984.0</td>\n",
       "      <td>M</td>\n",
       "      <td>SP</td>\n",
       "    </tr>\n",
       "  </tbody>\n",
       "</table>\n",
       "</div>"
      ],
      "text/plain": [
       "       submission_date                                        reviewer_id  \\\n",
       "0  2018-01-01 00:11:28  d0fb1ca69422530334178f5c8624aa7a99da47907c44de...   \n",
       "1  2018-01-01 00:13:48  014d6dc5a10aed1ff1e6f349fb2b059a2d3de511c7538a...   \n",
       "2  2018-01-01 00:26:02  44f2c8edd93471926fff601274b8b2b5c4824e386ae4f2...   \n",
       "\n",
       "  product_id                                       product_name  \\\n",
       "0  132532965  Notebook Asus Vivobook Max X541NA-GO472T Intel...   \n",
       "1   22562178               Copo Acrílico Com Canudo 500ml Rocie   \n",
       "2  113022329  Panela de Pressão Elétrica Philips Walita Dail...   \n",
       "\n",
       "    product_brand      site_category_lv1       site_category_lv2  \\\n",
       "0             NaN            Informática                Notebook   \n",
       "1             NaN  Utilidades Domésticas  Copos, Taças e Canecas   \n",
       "2  philips walita        Eletroportáteis         Panela Elétrica   \n",
       "\n",
       "                       review_title  overall_rating recommend_to_a_friend  \\\n",
       "0                               Bom               4                   Yes   \n",
       "1  Preço imbatível, ótima qualidade               4                   Yes   \n",
       "2      ATENDE TODAS AS EXPECTATIVA.               4                   Yes   \n",
       "\n",
       "                                         review_text  reviewer_birth_year  \\\n",
       "0  Estou contente com a compra entrega rápida o ú...               1958.0   \n",
       "1  Por apenas R$1994.20,eu consegui comprar esse ...               1996.0   \n",
       "2  SUPERA EM AGILIDADE E PRATICIDADE OUTRAS PANEL...               1984.0   \n",
       "\n",
       "  reviewer_gender reviewer_state  \n",
       "0               F             RJ  \n",
       "1               M             SC  \n",
       "2               M             SP  "
      ]
     },
     "execution_count": 3,
     "metadata": {},
     "output_type": "execute_result"
    }
   ],
   "source": [
    "df.head(3)"
   ]
  },
  {
   "cell_type": "markdown",
   "id": "be454e89-14a1-41a9-838f-00be76936265",
   "metadata": {},
   "source": [
    "O dataset fornecido contem muitas colunas interessantes. A própria variável resposta é algo discutível: o que pode ser considerado um review positivo ou negativo? Basta considerar a nota? Poderia ser usada também a coluna recommend_to_a_friend como sinal de sentimento, mas será que é suficiente?\n",
    "\n",
    "Outro ponto: as únicas variáveis referentes aos clientes são ano de nascimento, sexo (que é melhor não ser usada para evitar introdução de viés sexista no modelo), estado (UF) e reviewer id. Ou seja, caso essas variáveis não tenham uma boa capacidade preditiva, não será possível atender ao desejo da empresa de traçar perfis de clientes mais e menos propensos a comentários positivos ou negativos."
   ]
  },
  {
   "cell_type": "markdown",
   "id": "824f4a23-98c0-40d2-9eed-1fcf2fc459e7",
   "metadata": {},
   "source": [
    "A coluna `reviewer_id` pode ser explorada para investigar a distribuição da quantidade de reviews por cliente."
   ]
  },
  {
   "cell_type": "code",
   "execution_count": 4,
   "id": "d03161ce-c480-4889-a2bd-642ef9484aa5",
   "metadata": {
    "tags": []
   },
   "outputs": [
    {
     "data": {
      "text/plain": [
       "6ca0a1b3fa3b50ffa21e61a01633fd785172ebb04268d1ec97c7c958608902ea    155\n",
       "1cd7f8704e3ebe899a8ff9b5bc485e787a703a67d0c66fce9c260de58e0340fe     75\n",
       "2c213316c9638030e623f923e3fee14bf191cbab5777e8f5973cdb612b7675c8     64\n",
       "363bf7b1a7505732379f7a2ae004ecbdc7194b5b774cd844ceebec9321d016b1     62\n",
       "e34a8ba82a47141e5b2d7fbb53e8b7a7f4222ee64d27d2d4f5e4bf245a0fd4be     61\n",
       "                                                                   ... \n",
       "addfb139418aa6ebed710b07dd3973b1089a806fe9b82eea4ebb0e497a55e3c7      1\n",
       "f2e46ea69b45e86f1bb866136341dbca4b686655f6c865ac70b3b6cf995a2814      1\n",
       "450a707391a0910c7f266f5e0dbcad5008b74f2c8ea69ba6b7f45ff2a63604cf      1\n",
       "e076edaecd6c8afe579e2c7b3f54cf304fef57e101bc43a8be201bbcee0e55b3      1\n",
       "ea9467aa73271fb4f68c04f4dd4f4eef304d6ee85441fbcd82cda63e620954c3      1\n",
       "Name: reviewer_id, Length: 112993, dtype: int64"
      ]
     },
     "execution_count": 4,
     "metadata": {},
     "output_type": "execute_result"
    }
   ],
   "source": [
    "df['reviewer_id'].value_counts()"
   ]
  },
  {
   "cell_type": "code",
   "execution_count": 5,
   "id": "f0e821e1-40f5-4d6b-98dd-fd3c7cb211f8",
   "metadata": {
    "tags": []
   },
   "outputs": [
    {
     "data": {
      "text/plain": [
       "1      0.880878\n",
       "2      0.092785\n",
       "3      0.017798\n",
       "4      0.004646\n",
       "5      0.001673\n",
       "6      0.000726\n",
       "7      0.000310\n",
       "8      0.000327\n",
       "9      0.000106\n",
       "10     0.000186\n",
       "11     0.000062\n",
       "12     0.000097\n",
       "13     0.000027\n",
       "14     0.000062\n",
       "15     0.000071\n",
       "16     0.000035\n",
       "17     0.000018\n",
       "19     0.000027\n",
       "20     0.000035\n",
       "21     0.000018\n",
       "28     0.000027\n",
       "29     0.000009\n",
       "38     0.000009\n",
       "41     0.000018\n",
       "50     0.000009\n",
       "61     0.000009\n",
       "62     0.000009\n",
       "64     0.000009\n",
       "75     0.000009\n",
       "155    0.000009\n",
       "Name: reviewer_id, dtype: float64"
      ]
     },
     "execution_count": 5,
     "metadata": {},
     "output_type": "execute_result"
    }
   ],
   "source": [
    "df['reviewer_id'].value_counts().value_counts(normalize = True).sort_index()"
   ]
  },
  {
   "cell_type": "markdown",
   "id": "a7b91c2a-c90e-45ff-a129-a40d681d1fea",
   "metadata": {},
   "source": [
    "12% dos clientes fizeram mais de um review, o que pode gerar features interessantes para o modelo.\n",
    "\n",
    "Curiosamente, um único cliente foi responsável por 155 reviews no dataset. Vamos investigar:"
   ]
  },
  {
   "cell_type": "code",
   "execution_count": 6,
   "id": "81475460-81bf-4837-ba80-794bb441899a",
   "metadata": {
    "tags": []
   },
   "outputs": [
    {
     "data": {
      "text/html": [
       "<div>\n",
       "<style scoped>\n",
       "    .dataframe tbody tr th:only-of-type {\n",
       "        vertical-align: middle;\n",
       "    }\n",
       "\n",
       "    .dataframe tbody tr th {\n",
       "        vertical-align: top;\n",
       "    }\n",
       "\n",
       "    .dataframe thead th {\n",
       "        text-align: right;\n",
       "    }\n",
       "</style>\n",
       "<table border=\"1\" class=\"dataframe\">\n",
       "  <thead>\n",
       "    <tr style=\"text-align: right;\">\n",
       "      <th></th>\n",
       "      <th>submission_date</th>\n",
       "      <th>reviewer_id</th>\n",
       "      <th>product_id</th>\n",
       "      <th>product_name</th>\n",
       "      <th>product_brand</th>\n",
       "      <th>site_category_lv1</th>\n",
       "      <th>site_category_lv2</th>\n",
       "      <th>review_title</th>\n",
       "      <th>overall_rating</th>\n",
       "      <th>recommend_to_a_friend</th>\n",
       "      <th>review_text</th>\n",
       "      <th>reviewer_birth_year</th>\n",
       "      <th>reviewer_gender</th>\n",
       "      <th>reviewer_state</th>\n",
       "    </tr>\n",
       "  </thead>\n",
       "  <tbody>\n",
       "    <tr>\n",
       "      <th>10030</th>\n",
       "      <td>2018-01-08 08:19:48</td>\n",
       "      <td>6ca0a1b3fa3b50ffa21e61a01633fd785172ebb04268d1...</td>\n",
       "      <td>29592997</td>\n",
       "      <td>Fatiador Descascador Cortador de Alimentos Leg...</td>\n",
       "      <td>NaN</td>\n",
       "      <td>Utilidades Domésticas</td>\n",
       "      <td>NaN</td>\n",
       "      <td>Adorei o produto</td>\n",
       "      <td>5</td>\n",
       "      <td>Yes</td>\n",
       "      <td>Produto ótimo  muito bom mesmo . .........aaaa...</td>\n",
       "      <td>1952.0</td>\n",
       "      <td>M</td>\n",
       "      <td>RJ</td>\n",
       "    </tr>\n",
       "    <tr>\n",
       "      <th>10036</th>\n",
       "      <td>2018-01-08 08:23:05</td>\n",
       "      <td>6ca0a1b3fa3b50ffa21e61a01633fd785172ebb04268d1...</td>\n",
       "      <td>30164047</td>\n",
       "      <td>Descascador Cortador Fatiador em Inox de Abaca...</td>\n",
       "      <td>NaN</td>\n",
       "      <td>Utilidades Domésticas</td>\n",
       "      <td>NaN</td>\n",
       "      <td>Produto ótimo .</td>\n",
       "      <td>5</td>\n",
       "      <td>Yes</td>\n",
       "      <td>Gostei muito do produto produto é muito bom, ó...</td>\n",
       "      <td>1952.0</td>\n",
       "      <td>M</td>\n",
       "      <td>RJ</td>\n",
       "    </tr>\n",
       "    <tr>\n",
       "      <th>10046</th>\n",
       "      <td>2018-01-08 08:26:53</td>\n",
       "      <td>6ca0a1b3fa3b50ffa21e61a01633fd785172ebb04268d1...</td>\n",
       "      <td>30164020</td>\n",
       "      <td>Fatiador Descascador Cortador de Alimentos Leg...</td>\n",
       "      <td>NaN</td>\n",
       "      <td>Utilidades Domésticas</td>\n",
       "      <td>NaN</td>\n",
       "      <td>Otímo Produto</td>\n",
       "      <td>5</td>\n",
       "      <td>Yes</td>\n",
       "      <td>Adorei o produto ele é super prático e fácil d...</td>\n",
       "      <td>1952.0</td>\n",
       "      <td>M</td>\n",
       "      <td>RJ</td>\n",
       "    </tr>\n",
       "    <tr>\n",
       "      <th>49877</th>\n",
       "      <td>2018-03-05 07:30:04</td>\n",
       "      <td>6ca0a1b3fa3b50ffa21e61a01633fd785172ebb04268d1...</td>\n",
       "      <td>29593011</td>\n",
       "      <td>Garra Cortadora Pegador de Melancia Frutas Pra...</td>\n",
       "      <td>NaN</td>\n",
       "      <td>Utilidades Domésticas</td>\n",
       "      <td>NaN</td>\n",
       "      <td>Super recomendo o produto.</td>\n",
       "      <td>5</td>\n",
       "      <td>Yes</td>\n",
       "      <td>Super recomendo o produto. Todos  na minha cas...</td>\n",
       "      <td>1952.0</td>\n",
       "      <td>M</td>\n",
       "      <td>RJ</td>\n",
       "    </tr>\n",
       "    <tr>\n",
       "      <th>111995</th>\n",
       "      <td>2018-05-07 11:06:20</td>\n",
       "      <td>6ca0a1b3fa3b50ffa21e61a01633fd785172ebb04268d1...</td>\n",
       "      <td>20644184</td>\n",
       "      <td>Canguru Baby Bag</td>\n",
       "      <td>NaN</td>\n",
       "      <td>Bebês</td>\n",
       "      <td>Passeio</td>\n",
       "      <td>Recomendo .</td>\n",
       "      <td>5</td>\n",
       "      <td>Yes</td>\n",
       "      <td>Gostei muito do produto, entrega super rápida ...</td>\n",
       "      <td>1952.0</td>\n",
       "      <td>M</td>\n",
       "      <td>RJ</td>\n",
       "    </tr>\n",
       "    <tr>\n",
       "      <th>111998</th>\n",
       "      <td>2018-05-07 11:08:58</td>\n",
       "      <td>6ca0a1b3fa3b50ffa21e61a01633fd785172ebb04268d1...</td>\n",
       "      <td>29593221</td>\n",
       "      <td>Kit 30 Brocas Lixa Unha Eletrica Profissional ...</td>\n",
       "      <td>NaN</td>\n",
       "      <td>Beleza e Perfumaria</td>\n",
       "      <td>Unha</td>\n",
       "      <td>Recomendo .</td>\n",
       "      <td>5</td>\n",
       "      <td>Yes</td>\n",
       "      <td>Gostei muito do produto . Entrega super rápida...</td>\n",
       "      <td>1952.0</td>\n",
       "      <td>M</td>\n",
       "      <td>RJ</td>\n",
       "    </tr>\n",
       "    <tr>\n",
       "      <th>112004</th>\n",
       "      <td>2018-05-07 11:14:10</td>\n",
       "      <td>6ca0a1b3fa3b50ffa21e61a01633fd785172ebb04268d1...</td>\n",
       "      <td>20824204</td>\n",
       "      <td>Aparelho Massageador Eletroestimulador Para Fi...</td>\n",
       "      <td>NaN</td>\n",
       "      <td>Utilidades Domésticas</td>\n",
       "      <td>Utensílios e Acessórios Domésticos</td>\n",
       "      <td>Recomendo</td>\n",
       "      <td>5</td>\n",
       "      <td>Yes</td>\n",
       "      <td>Gostei muito do produto . Entrega super rápida...</td>\n",
       "      <td>1952.0</td>\n",
       "      <td>M</td>\n",
       "      <td>RJ</td>\n",
       "    </tr>\n",
       "    <tr>\n",
       "      <th>112006</th>\n",
       "      <td>2018-05-07 11:14:49</td>\n",
       "      <td>6ca0a1b3fa3b50ffa21e61a01633fd785172ebb04268d1...</td>\n",
       "      <td>29592938</td>\n",
       "      <td>Andador Para Bebes Portatil Criança Moon Walk ...</td>\n",
       "      <td>NaN</td>\n",
       "      <td>Bebês</td>\n",
       "      <td>NaN</td>\n",
       "      <td>Recomendo .</td>\n",
       "      <td>5</td>\n",
       "      <td>Yes</td>\n",
       "      <td>Gostei muito do produto . Entrega super rápida...</td>\n",
       "      <td>1952.0</td>\n",
       "      <td>M</td>\n",
       "      <td>RJ</td>\n",
       "    </tr>\n",
       "    <tr>\n",
       "      <th>112007</th>\n",
       "      <td>2018-05-07 11:15:20</td>\n",
       "      <td>6ca0a1b3fa3b50ffa21e61a01633fd785172ebb04268d1...</td>\n",
       "      <td>29593286</td>\n",
       "      <td>Sensor Re Estacionamento Display Led Slim 4 Se...</td>\n",
       "      <td>NaN</td>\n",
       "      <td>Automotivo</td>\n",
       "      <td>NaN</td>\n",
       "      <td>Recomendo .</td>\n",
       "      <td>5</td>\n",
       "      <td>Yes</td>\n",
       "      <td>Gostei muito do produto . Entrega super rápida...</td>\n",
       "      <td>1952.0</td>\n",
       "      <td>M</td>\n",
       "      <td>RJ</td>\n",
       "    </tr>\n",
       "    <tr>\n",
       "      <th>112008</th>\n",
       "      <td>2018-05-07 11:15:49</td>\n",
       "      <td>6ca0a1b3fa3b50ffa21e61a01633fd785172ebb04268d1...</td>\n",
       "      <td>29592915</td>\n",
       "      <td>Trena Eletrônica Para Medição De Distância Com...</td>\n",
       "      <td>NaN</td>\n",
       "      <td>Celulares e Smartphones</td>\n",
       "      <td>NaN</td>\n",
       "      <td>Recomendo .</td>\n",
       "      <td>5</td>\n",
       "      <td>Yes</td>\n",
       "      <td>Gostei muito do produto . Entrega super rápida...</td>\n",
       "      <td>1952.0</td>\n",
       "      <td>M</td>\n",
       "      <td>RJ</td>\n",
       "    </tr>\n",
       "  </tbody>\n",
       "</table>\n",
       "</div>"
      ],
      "text/plain": [
       "            submission_date  \\\n",
       "10030   2018-01-08 08:19:48   \n",
       "10036   2018-01-08 08:23:05   \n",
       "10046   2018-01-08 08:26:53   \n",
       "49877   2018-03-05 07:30:04   \n",
       "111995  2018-05-07 11:06:20   \n",
       "111998  2018-05-07 11:08:58   \n",
       "112004  2018-05-07 11:14:10   \n",
       "112006  2018-05-07 11:14:49   \n",
       "112007  2018-05-07 11:15:20   \n",
       "112008  2018-05-07 11:15:49   \n",
       "\n",
       "                                              reviewer_id product_id  \\\n",
       "10030   6ca0a1b3fa3b50ffa21e61a01633fd785172ebb04268d1...   29592997   \n",
       "10036   6ca0a1b3fa3b50ffa21e61a01633fd785172ebb04268d1...   30164047   \n",
       "10046   6ca0a1b3fa3b50ffa21e61a01633fd785172ebb04268d1...   30164020   \n",
       "49877   6ca0a1b3fa3b50ffa21e61a01633fd785172ebb04268d1...   29593011   \n",
       "111995  6ca0a1b3fa3b50ffa21e61a01633fd785172ebb04268d1...   20644184   \n",
       "111998  6ca0a1b3fa3b50ffa21e61a01633fd785172ebb04268d1...   29593221   \n",
       "112004  6ca0a1b3fa3b50ffa21e61a01633fd785172ebb04268d1...   20824204   \n",
       "112006  6ca0a1b3fa3b50ffa21e61a01633fd785172ebb04268d1...   29592938   \n",
       "112007  6ca0a1b3fa3b50ffa21e61a01633fd785172ebb04268d1...   29593286   \n",
       "112008  6ca0a1b3fa3b50ffa21e61a01633fd785172ebb04268d1...   29592915   \n",
       "\n",
       "                                             product_name product_brand  \\\n",
       "10030   Fatiador Descascador Cortador de Alimentos Leg...           NaN   \n",
       "10036   Descascador Cortador Fatiador em Inox de Abaca...           NaN   \n",
       "10046   Fatiador Descascador Cortador de Alimentos Leg...           NaN   \n",
       "49877   Garra Cortadora Pegador de Melancia Frutas Pra...           NaN   \n",
       "111995                                   Canguru Baby Bag           NaN   \n",
       "111998  Kit 30 Brocas Lixa Unha Eletrica Profissional ...           NaN   \n",
       "112004  Aparelho Massageador Eletroestimulador Para Fi...           NaN   \n",
       "112006  Andador Para Bebes Portatil Criança Moon Walk ...           NaN   \n",
       "112007  Sensor Re Estacionamento Display Led Slim 4 Se...           NaN   \n",
       "112008  Trena Eletrônica Para Medição De Distância Com...           NaN   \n",
       "\n",
       "              site_category_lv1                   site_category_lv2  \\\n",
       "10030     Utilidades Domésticas                                 NaN   \n",
       "10036     Utilidades Domésticas                                 NaN   \n",
       "10046     Utilidades Domésticas                                 NaN   \n",
       "49877     Utilidades Domésticas                                 NaN   \n",
       "111995                    Bebês                             Passeio   \n",
       "111998      Beleza e Perfumaria                                Unha   \n",
       "112004    Utilidades Domésticas  Utensílios e Acessórios Domésticos   \n",
       "112006                    Bebês                                 NaN   \n",
       "112007               Automotivo                                 NaN   \n",
       "112008  Celulares e Smartphones                                 NaN   \n",
       "\n",
       "                      review_title  overall_rating recommend_to_a_friend  \\\n",
       "10030             Adorei o produto               5                   Yes   \n",
       "10036              Produto ótimo .               5                   Yes   \n",
       "10046                Otímo Produto               5                   Yes   \n",
       "49877   Super recomendo o produto.               5                   Yes   \n",
       "111995                 Recomendo .               5                   Yes   \n",
       "111998                 Recomendo .               5                   Yes   \n",
       "112004                   Recomendo               5                   Yes   \n",
       "112006                 Recomendo .               5                   Yes   \n",
       "112007                 Recomendo .               5                   Yes   \n",
       "112008                 Recomendo .               5                   Yes   \n",
       "\n",
       "                                              review_text  \\\n",
       "10030   Produto ótimo  muito bom mesmo . .........aaaa...   \n",
       "10036   Gostei muito do produto produto é muito bom, ó...   \n",
       "10046   Adorei o produto ele é super prático e fácil d...   \n",
       "49877   Super recomendo o produto. Todos  na minha cas...   \n",
       "111995  Gostei muito do produto, entrega super rápida ...   \n",
       "111998  Gostei muito do produto . Entrega super rápida...   \n",
       "112004  Gostei muito do produto . Entrega super rápida...   \n",
       "112006  Gostei muito do produto . Entrega super rápida...   \n",
       "112007  Gostei muito do produto . Entrega super rápida...   \n",
       "112008  Gostei muito do produto . Entrega super rápida...   \n",
       "\n",
       "        reviewer_birth_year reviewer_gender reviewer_state  \n",
       "10030                1952.0               M             RJ  \n",
       "10036                1952.0               M             RJ  \n",
       "10046                1952.0               M             RJ  \n",
       "49877                1952.0               M             RJ  \n",
       "111995               1952.0               M             RJ  \n",
       "111998               1952.0               M             RJ  \n",
       "112004               1952.0               M             RJ  \n",
       "112006               1952.0               M             RJ  \n",
       "112007               1952.0               M             RJ  \n",
       "112008               1952.0               M             RJ  "
      ]
     },
     "execution_count": 6,
     "metadata": {},
     "output_type": "execute_result"
    }
   ],
   "source": [
    "df[df['reviewer_id'] == '6ca0a1b3fa3b50ffa21e61a01633fd785172ebb04268d1ec97c7c958608902ea'].sort_values('submission_date').head(10)"
   ]
  },
  {
   "cell_type": "markdown",
   "id": "0f059823-52e9-4dbc-b4d3-38aa6cd64433",
   "metadata": {},
   "source": [
    "Os reviews são muito parecidos entre sim, o que nos leva a questionar se os dados precisam de algum processo de limpeza, como remoção de duplicatas."
   ]
  },
  {
   "cell_type": "markdown",
   "id": "9ed29de8-306a-4c28-afbb-4cdcaee9c476",
   "metadata": {
    "tags": []
   },
   "source": [
    "Investigando a presença de dados nulos no dataset:"
   ]
  },
  {
   "cell_type": "code",
   "execution_count": 7,
   "id": "f035cd93-2dbd-41c9-ab3d-1271283f453c",
   "metadata": {
    "tags": []
   },
   "outputs": [
    {
     "data": {
      "text/plain": [
       "submission_date          0.000000\n",
       "reviewer_id              0.000000\n",
       "product_id               0.000000\n",
       "product_name             0.000635\n",
       "product_brand            0.690405\n",
       "site_category_lv1        0.000045\n",
       "site_category_lv2        0.030316\n",
       "review_title             0.002281\n",
       "overall_rating           0.000000\n",
       "recommend_to_a_friend    0.000136\n",
       "review_text              0.024741\n",
       "reviewer_birth_year      0.045206\n",
       "reviewer_gender          0.031245\n",
       "reviewer_state           0.030150\n",
       "dtype: float64"
      ]
     },
     "execution_count": 7,
     "metadata": {},
     "output_type": "execute_result"
    }
   ],
   "source": [
    "df.isna().mean()"
   ]
  },
  {
   "cell_type": "markdown",
   "id": "993b1c0b-b841-4278-8d5f-4523aea4bb39",
   "metadata": {},
   "source": [
    "A variável mais importante do dataset, `review_text`, contem alguns dados nulos. Como ela sera bastante usada na modelagem, vamos filtrar fora as linhas que contem dados nulos para ela."
   ]
  },
  {
   "cell_type": "code",
   "execution_count": 8,
   "id": "80371973-0b4b-4e7d-b728-fa5b1f2ea88d",
   "metadata": {
    "tags": []
   },
   "outputs": [],
   "source": [
    "df = df[df['review_text'].notnull()]"
   ]
  },
  {
   "cell_type": "markdown",
   "id": "508849ee-9d7f-4f11-9e6d-00f9854abcfb",
   "metadata": {},
   "source": [
    "## Definiçào da variável resposta"
   ]
  },
  {
   "cell_type": "code",
   "execution_count": 9,
   "id": "fb99a597-032e-46b2-9f3b-b875aa96bca9",
   "metadata": {
    "tags": []
   },
   "outputs": [
    {
     "data": {
      "text/plain": [
       "1    0.199\n",
       "2    0.063\n",
       "3    0.124\n",
       "4    0.248\n",
       "5    0.367\n",
       "Name: overall_rating, dtype: float64"
      ]
     },
     "execution_count": 9,
     "metadata": {},
     "output_type": "execute_result"
    }
   ],
   "source": [
    "df['overall_rating'].value_counts(normalize = True).sort_index().round(3)"
   ]
  },
  {
   "cell_type": "code",
   "execution_count": 10,
   "id": "78bc163a-4721-4904-b8a3-0322d2c752a1",
   "metadata": {
    "tags": []
   },
   "outputs": [
    {
     "data": {
      "text/plain": [
       "Yes    0.736489\n",
       "No     0.263511\n",
       "Name: recommend_to_a_friend, dtype: float64"
      ]
     },
     "execution_count": 10,
     "metadata": {},
     "output_type": "execute_result"
    }
   ],
   "source": [
    "df['recommend_to_a_friend'].value_counts(normalize = True)"
   ]
  },
  {
   "cell_type": "code",
   "execution_count": 11,
   "id": "5cd78294-c18e-4a8b-8470-bac01782ca05",
   "metadata": {
    "tags": []
   },
   "outputs": [
    {
     "data": {
      "text/html": [
       "<div>\n",
       "<style scoped>\n",
       "    .dataframe tbody tr th:only-of-type {\n",
       "        vertical-align: middle;\n",
       "    }\n",
       "\n",
       "    .dataframe tbody tr th {\n",
       "        vertical-align: top;\n",
       "    }\n",
       "\n",
       "    .dataframe thead th {\n",
       "        text-align: right;\n",
       "    }\n",
       "</style>\n",
       "<table border=\"1\" class=\"dataframe\">\n",
       "  <thead>\n",
       "    <tr style=\"text-align: right;\">\n",
       "      <th>recommend_to_a_friend</th>\n",
       "      <th>No</th>\n",
       "      <th>Yes</th>\n",
       "    </tr>\n",
       "    <tr>\n",
       "      <th>overall_rating</th>\n",
       "      <th></th>\n",
       "      <th></th>\n",
       "    </tr>\n",
       "  </thead>\n",
       "  <tbody>\n",
       "    <tr>\n",
       "      <th>1</th>\n",
       "      <td>0.97</td>\n",
       "      <td>0.03</td>\n",
       "    </tr>\n",
       "    <tr>\n",
       "      <th>2</th>\n",
       "      <td>0.75</td>\n",
       "      <td>0.25</td>\n",
       "    </tr>\n",
       "    <tr>\n",
       "      <th>3</th>\n",
       "      <td>0.11</td>\n",
       "      <td>0.89</td>\n",
       "    </tr>\n",
       "    <tr>\n",
       "      <th>4</th>\n",
       "      <td>0.02</td>\n",
       "      <td>0.98</td>\n",
       "    </tr>\n",
       "    <tr>\n",
       "      <th>5</th>\n",
       "      <td>0.01</td>\n",
       "      <td>0.99</td>\n",
       "    </tr>\n",
       "  </tbody>\n",
       "</table>\n",
       "</div>"
      ],
      "text/plain": [
       "recommend_to_a_friend    No   Yes\n",
       "overall_rating                   \n",
       "1                      0.97  0.03\n",
       "2                      0.75  0.25\n",
       "3                      0.11  0.89\n",
       "4                      0.02  0.98\n",
       "5                      0.01  0.99"
      ]
     },
     "execution_count": 11,
     "metadata": {},
     "output_type": "execute_result"
    }
   ],
   "source": [
    "pd.crosstab(df['overall_rating'], df['recommend_to_a_friend'], normalize = 'index').round(2)"
   ]
  },
  {
   "cell_type": "markdown",
   "id": "056f3bd7-64b2-451f-a354-b99a23baaf0f",
   "metadata": {},
   "source": [
    "A tabela acima mostra resultados muito interessantes: 25% das pessoas que dão nota 2 em um review na verdade recomendariam o produto, o que aparenta ser paradoxal. Portanto, faz sentido criar uma nova variável resposta que seja uma combinação dessas duas: será considerado negativo um review de nota menor ou igual a 2 e que o cliente nào recomendaria para um amigo. Nos demais casos, a avaliaçào é considerada não-negativa."
   ]
  },
  {
   "cell_type": "code",
   "execution_count": 12,
   "id": "891439bc-ae2e-4272-9f86-0670d7932dbc",
   "metadata": {
    "tags": []
   },
   "outputs": [],
   "source": [
    "df['is_negative_review'] = (df['overall_rating'] <= 2) & (df['recommend_to_a_friend'] == 'No')"
   ]
  },
  {
   "cell_type": "code",
   "execution_count": 13,
   "id": "81f3cf73-1fce-4fee-9cd8-e81ba995eae1",
   "metadata": {
    "tags": []
   },
   "outputs": [
    {
     "data": {
      "text/plain": [
       "0.2402515918139708"
      ]
     },
     "execution_count": 13,
     "metadata": {},
     "output_type": "execute_result"
    }
   ],
   "source": [
    "df['is_negative_review'].mean()"
   ]
  },
  {
   "cell_type": "markdown",
   "id": "5de06b17-5c95-4830-b582-8a593a2a8ab4",
   "metadata": {},
   "source": [
    "Temos, então, que 24% dos reviews são negativos. Isso é uma informação importante para a modelagem, pois temos que a acurácia do modelo precisa ser maior que o baseline de 82%."
   ]
  },
  {
   "cell_type": "markdown",
   "id": "76c88f3e-ffcb-47b1-964c-6584994d9a6e",
   "metadata": {},
   "source": [
    "## Separação de treino e teste\n",
    "\n",
    "Para dar continuidade na EDA e evitar vazamento de dados, os dados serão separados nos conjuntos de treino e teste antes da análise."
   ]
  },
  {
   "cell_type": "code",
   "execution_count": 14,
   "id": "42c46235-fb68-473a-9345-53df7a3c19a5",
   "metadata": {
    "tags": []
   },
   "outputs": [],
   "source": [
    "X_train, X_test, y_train, y_test = train_test_split(df, df['is_negative_review'], random_state=42)"
   ]
  },
  {
   "cell_type": "markdown",
   "id": "f4f4e45b-a38f-4596-9ccf-be7287535b95",
   "metadata": {},
   "source": [
    "Analisando a variável de categoria dos produtos:"
   ]
  },
  {
   "cell_type": "code",
   "execution_count": 15,
   "id": "eaaccd2b-c9c0-4d53-a552-ed8001b3da2e",
   "metadata": {
    "tags": []
   },
   "outputs": [
    {
     "data": {
      "text/html": [
       "<div>\n",
       "<style scoped>\n",
       "    .dataframe tbody tr th:only-of-type {\n",
       "        vertical-align: middle;\n",
       "    }\n",
       "\n",
       "    .dataframe tbody tr th {\n",
       "        vertical-align: top;\n",
       "    }\n",
       "\n",
       "    .dataframe thead th {\n",
       "        text-align: right;\n",
       "    }\n",
       "</style>\n",
       "<table border=\"1\" class=\"dataframe\">\n",
       "  <thead>\n",
       "    <tr style=\"text-align: right;\">\n",
       "      <th></th>\n",
       "      <th>size</th>\n",
       "      <th>mean</th>\n",
       "    </tr>\n",
       "    <tr>\n",
       "      <th>site_category_lv1</th>\n",
       "      <th></th>\n",
       "      <th></th>\n",
       "    </tr>\n",
       "  </thead>\n",
       "  <tbody>\n",
       "    <tr>\n",
       "      <th>Gift Card</th>\n",
       "      <td>1</td>\n",
       "      <td>1.000000</td>\n",
       "    </tr>\n",
       "    <tr>\n",
       "      <th>Perfumaria</th>\n",
       "      <td>1</td>\n",
       "      <td>1.000000</td>\n",
       "    </tr>\n",
       "    <tr>\n",
       "      <th>Sinalização e Segurança</th>\n",
       "      <td>43</td>\n",
       "      <td>0.488372</td>\n",
       "    </tr>\n",
       "    <tr>\n",
       "      <th>Linha Industrial</th>\n",
       "      <td>79</td>\n",
       "      <td>0.468354</td>\n",
       "    </tr>\n",
       "    <tr>\n",
       "      <th>Wearable</th>\n",
       "      <td>200</td>\n",
       "      <td>0.425000</td>\n",
       "    </tr>\n",
       "    <tr>\n",
       "      <th>Agro, Indústria e Comércio</th>\n",
       "      <td>196</td>\n",
       "      <td>0.418367</td>\n",
       "    </tr>\n",
       "    <tr>\n",
       "      <th>Móveis</th>\n",
       "      <td>5180</td>\n",
       "      <td>0.404826</td>\n",
       "    </tr>\n",
       "    <tr>\n",
       "      <th>Suplementos e Vitaminas</th>\n",
       "      <td>905</td>\n",
       "      <td>0.381215</td>\n",
       "    </tr>\n",
       "    <tr>\n",
       "      <th>Áudio</th>\n",
       "      <td>1076</td>\n",
       "      <td>0.378253</td>\n",
       "    </tr>\n",
       "    <tr>\n",
       "      <th>Páscoa</th>\n",
       "      <td>16</td>\n",
       "      <td>0.375000</td>\n",
       "    </tr>\n",
       "    <tr>\n",
       "      <th>Miscellaneous</th>\n",
       "      <td>228</td>\n",
       "      <td>0.328947</td>\n",
       "    </tr>\n",
       "    <tr>\n",
       "      <th>Cama, Mesa e Banho</th>\n",
       "      <td>2200</td>\n",
       "      <td>0.327273</td>\n",
       "    </tr>\n",
       "    <tr>\n",
       "      <th>Esporte e Lazer</th>\n",
       "      <td>2134</td>\n",
       "      <td>0.326148</td>\n",
       "    </tr>\n",
       "    <tr>\n",
       "      <th>Casa e Construção</th>\n",
       "      <td>3231</td>\n",
       "      <td>0.310121</td>\n",
       "    </tr>\n",
       "    <tr>\n",
       "      <th>Saúde</th>\n",
       "      <td>2064</td>\n",
       "      <td>0.308140</td>\n",
       "    </tr>\n",
       "    <tr>\n",
       "      <th>Informática e Acessórios</th>\n",
       "      <td>5525</td>\n",
       "      <td>0.296833</td>\n",
       "    </tr>\n",
       "    <tr>\n",
       "      <th>Automotivo</th>\n",
       "      <td>2818</td>\n",
       "      <td>0.284244</td>\n",
       "    </tr>\n",
       "    <tr>\n",
       "      <th>Câmeras e Filmadoras</th>\n",
       "      <td>852</td>\n",
       "      <td>0.282864</td>\n",
       "    </tr>\n",
       "    <tr>\n",
       "      <th>Relógios</th>\n",
       "      <td>1089</td>\n",
       "      <td>0.277319</td>\n",
       "    </tr>\n",
       "    <tr>\n",
       "      <th>Indústria, Comércio e Negócios</th>\n",
       "      <td>47</td>\n",
       "      <td>0.276596</td>\n",
       "    </tr>\n",
       "    <tr>\n",
       "      <th>Decoração</th>\n",
       "      <td>1064</td>\n",
       "      <td>0.272556</td>\n",
       "    </tr>\n",
       "    <tr>\n",
       "      <th>Brinquedos</th>\n",
       "      <td>3466</td>\n",
       "      <td>0.259954</td>\n",
       "    </tr>\n",
       "    <tr>\n",
       "      <th>Telefonia Fixa</th>\n",
       "      <td>327</td>\n",
       "      <td>0.259939</td>\n",
       "    </tr>\n",
       "    <tr>\n",
       "      <th>Informática</th>\n",
       "      <td>3135</td>\n",
       "      <td>0.259649</td>\n",
       "    </tr>\n",
       "    <tr>\n",
       "      <th>Games</th>\n",
       "      <td>2547</td>\n",
       "      <td>0.252846</td>\n",
       "    </tr>\n",
       "    <tr>\n",
       "      <th>Ferramentas e Jardim</th>\n",
       "      <td>1282</td>\n",
       "      <td>0.242590</td>\n",
       "    </tr>\n",
       "    <tr>\n",
       "      <th>Ar-condicionado e Aquecedores</th>\n",
       "      <td>552</td>\n",
       "      <td>0.239130</td>\n",
       "    </tr>\n",
       "    <tr>\n",
       "      <th>Artesanato</th>\n",
       "      <td>17</td>\n",
       "      <td>0.235294</td>\n",
       "    </tr>\n",
       "    <tr>\n",
       "      <th>Instrumentos Musicais</th>\n",
       "      <td>668</td>\n",
       "      <td>0.235030</td>\n",
       "    </tr>\n",
       "    <tr>\n",
       "      <th>Vestuário Esportivo</th>\n",
       "      <td>227</td>\n",
       "      <td>0.233480</td>\n",
       "    </tr>\n",
       "    <tr>\n",
       "      <th>Malas e Acessórios</th>\n",
       "      <td>530</td>\n",
       "      <td>0.232075</td>\n",
       "    </tr>\n",
       "    <tr>\n",
       "      <th>Beleza e Perfumaria</th>\n",
       "      <td>6550</td>\n",
       "      <td>0.231908</td>\n",
       "    </tr>\n",
       "    <tr>\n",
       "      <th>Alimentos e Bebidas</th>\n",
       "      <td>492</td>\n",
       "      <td>0.231707</td>\n",
       "    </tr>\n",
       "    <tr>\n",
       "      <th>Utilidades Domésticas</th>\n",
       "      <td>6043</td>\n",
       "      <td>0.230515</td>\n",
       "    </tr>\n",
       "    <tr>\n",
       "      <th>Artigos de Festas</th>\n",
       "      <td>59</td>\n",
       "      <td>0.220339</td>\n",
       "    </tr>\n",
       "    <tr>\n",
       "      <th>Pet Shop</th>\n",
       "      <td>1013</td>\n",
       "      <td>0.217177</td>\n",
       "    </tr>\n",
       "    <tr>\n",
       "      <th>Moda</th>\n",
       "      <td>1812</td>\n",
       "      <td>0.216887</td>\n",
       "    </tr>\n",
       "    <tr>\n",
       "      <th>Enfeites de Natal</th>\n",
       "      <td>47</td>\n",
       "      <td>0.212766</td>\n",
       "    </tr>\n",
       "    <tr>\n",
       "      <th>Papelaria</th>\n",
       "      <td>844</td>\n",
       "      <td>0.210900</td>\n",
       "    </tr>\n",
       "    <tr>\n",
       "      <th>Eletrodomésticos</th>\n",
       "      <td>2843</td>\n",
       "      <td>0.209989</td>\n",
       "    </tr>\n",
       "    <tr>\n",
       "      <th>TV e Home Theater</th>\n",
       "      <td>5517</td>\n",
       "      <td>0.205546</td>\n",
       "    </tr>\n",
       "    <tr>\n",
       "      <th>Informática Acessórios</th>\n",
       "      <td>5</td>\n",
       "      <td>0.200000</td>\n",
       "    </tr>\n",
       "    <tr>\n",
       "      <th>Bebês</th>\n",
       "      <td>2209</td>\n",
       "      <td>0.194658</td>\n",
       "    </tr>\n",
       "    <tr>\n",
       "      <th>Celulares e Smartphones</th>\n",
       "      <td>15315</td>\n",
       "      <td>0.177669</td>\n",
       "    </tr>\n",
       "    <tr>\n",
       "      <th>Eletroportáteis</th>\n",
       "      <td>8642</td>\n",
       "      <td>0.158065</td>\n",
       "    </tr>\n",
       "    <tr>\n",
       "      <th>Livros Importados</th>\n",
       "      <td>54</td>\n",
       "      <td>0.148148</td>\n",
       "    </tr>\n",
       "    <tr>\n",
       "      <th>Música</th>\n",
       "      <td>184</td>\n",
       "      <td>0.135870</td>\n",
       "    </tr>\n",
       "    <tr>\n",
       "      <th>Livros</th>\n",
       "      <td>3041</td>\n",
       "      <td>0.106544</td>\n",
       "    </tr>\n",
       "    <tr>\n",
       "      <th>Filmes e Séries</th>\n",
       "      <td>439</td>\n",
       "      <td>0.068337</td>\n",
       "    </tr>\n",
       "    <tr>\n",
       "      <th>Beleza &amp; Saúde</th>\n",
       "      <td>1</td>\n",
       "      <td>0.000000</td>\n",
       "    </tr>\n",
       "    <tr>\n",
       "      <th>Artigos de Festa</th>\n",
       "      <td>4</td>\n",
       "      <td>0.000000</td>\n",
       "    </tr>\n",
       "    <tr>\n",
       "      <th>DVDs e Blu-ray</th>\n",
       "      <td>4</td>\n",
       "      <td>0.000000</td>\n",
       "    </tr>\n",
       "    <tr>\n",
       "      <th>Beleza e Saúde</th>\n",
       "      <td>1</td>\n",
       "      <td>0.000000</td>\n",
       "    </tr>\n",
       "    <tr>\n",
       "      <th>Blu-Ray</th>\n",
       "      <td>2</td>\n",
       "      <td>0.000000</td>\n",
       "    </tr>\n",
       "  </tbody>\n",
       "</table>\n",
       "</div>"
      ],
      "text/plain": [
       "                                 size      mean\n",
       "site_category_lv1                              \n",
       "Gift Card                           1  1.000000\n",
       "Perfumaria                          1  1.000000\n",
       "Sinalização e Segurança            43  0.488372\n",
       "Linha Industrial                   79  0.468354\n",
       "Wearable                          200  0.425000\n",
       "Agro, Indústria e Comércio        196  0.418367\n",
       "Móveis                           5180  0.404826\n",
       "Suplementos e Vitaminas           905  0.381215\n",
       "Áudio                            1076  0.378253\n",
       "Páscoa                             16  0.375000\n",
       "Miscellaneous                     228  0.328947\n",
       "Cama, Mesa e Banho               2200  0.327273\n",
       "Esporte e Lazer                  2134  0.326148\n",
       "Casa e Construção                3231  0.310121\n",
       "Saúde                            2064  0.308140\n",
       "Informática e Acessórios         5525  0.296833\n",
       "Automotivo                       2818  0.284244\n",
       "Câmeras e Filmadoras              852  0.282864\n",
       "Relógios                         1089  0.277319\n",
       "Indústria, Comércio e Negócios     47  0.276596\n",
       "Decoração                        1064  0.272556\n",
       "Brinquedos                       3466  0.259954\n",
       "Telefonia Fixa                    327  0.259939\n",
       "Informática                      3135  0.259649\n",
       "Games                            2547  0.252846\n",
       "Ferramentas e Jardim             1282  0.242590\n",
       "Ar-condicionado e Aquecedores     552  0.239130\n",
       "Artesanato                         17  0.235294\n",
       "Instrumentos Musicais             668  0.235030\n",
       "Vestuário Esportivo               227  0.233480\n",
       "Malas e Acessórios                530  0.232075\n",
       "Beleza e Perfumaria              6550  0.231908\n",
       "Alimentos e Bebidas               492  0.231707\n",
       "Utilidades Domésticas            6043  0.230515\n",
       "Artigos de Festas                  59  0.220339\n",
       "Pet Shop                         1013  0.217177\n",
       "Moda                             1812  0.216887\n",
       "Enfeites de Natal                  47  0.212766\n",
       "Papelaria                         844  0.210900\n",
       "Eletrodomésticos                 2843  0.209989\n",
       "TV e Home Theater                5517  0.205546\n",
       "Informática Acessórios              5  0.200000\n",
       "Bebês                            2209  0.194658\n",
       "Celulares e Smartphones         15315  0.177669\n",
       "Eletroportáteis                  8642  0.158065\n",
       "Livros Importados                  54  0.148148\n",
       "Música                            184  0.135870\n",
       "Livros                           3041  0.106544\n",
       "Filmes e Séries                   439  0.068337\n",
       "Beleza & Saúde                      1  0.000000\n",
       "Artigos de Festa                    4  0.000000\n",
       "DVDs e Blu-ray                      4  0.000000\n",
       "Beleza e Saúde                      1  0.000000\n",
       "Blu-Ray                             2  0.000000"
      ]
     },
     "execution_count": 15,
     "metadata": {},
     "output_type": "execute_result"
    }
   ],
   "source": [
    "X_train.groupby('site_category_lv1')['is_negative_review'].agg(['size', 'mean']).sort_values('mean', ascending = False)"
   ]
  },
  {
   "cell_type": "markdown",
   "id": "5acf9937-aa5c-4820-bae5-3bbabed450e7",
   "metadata": {},
   "source": [
    "Os resultados dessa coluna não são muito claros para interpretar: algumas categorias que possuem uma média de avaliações negativas possuem pouquíssimos comentários, o que faz a amostra ser insuficiente para se tirar conclusões.\n",
    "\n",
    "Analisando o estados dos clientes:"
   ]
  },
  {
   "cell_type": "code",
   "execution_count": 16,
   "id": "e4b5a519-aa70-44d7-a87a-f86af549bc0d",
   "metadata": {
    "tags": []
   },
   "outputs": [
    {
     "data": {
      "text/html": [
       "<div>\n",
       "<style scoped>\n",
       "    .dataframe tbody tr th:only-of-type {\n",
       "        vertical-align: middle;\n",
       "    }\n",
       "\n",
       "    .dataframe tbody tr th {\n",
       "        vertical-align: top;\n",
       "    }\n",
       "\n",
       "    .dataframe thead th {\n",
       "        text-align: right;\n",
       "    }\n",
       "</style>\n",
       "<table border=\"1\" class=\"dataframe\">\n",
       "  <thead>\n",
       "    <tr style=\"text-align: right;\">\n",
       "      <th></th>\n",
       "      <th>size</th>\n",
       "      <th>mean</th>\n",
       "    </tr>\n",
       "    <tr>\n",
       "      <th>reviewer_state</th>\n",
       "      <th></th>\n",
       "      <th></th>\n",
       "    </tr>\n",
       "  </thead>\n",
       "  <tbody>\n",
       "    <tr>\n",
       "      <th>PI</th>\n",
       "      <td>516</td>\n",
       "      <td>0.281008</td>\n",
       "    </tr>\n",
       "    <tr>\n",
       "      <th>MS</th>\n",
       "      <td>613</td>\n",
       "      <td>0.269168</td>\n",
       "    </tr>\n",
       "    <tr>\n",
       "      <th>CE</th>\n",
       "      <td>1569</td>\n",
       "      <td>0.267686</td>\n",
       "    </tr>\n",
       "    <tr>\n",
       "      <th>RJ</th>\n",
       "      <td>12785</td>\n",
       "      <td>0.264529</td>\n",
       "    </tr>\n",
       "    <tr>\n",
       "      <th>PA</th>\n",
       "      <td>1100</td>\n",
       "      <td>0.260000</td>\n",
       "    </tr>\n",
       "    <tr>\n",
       "      <th>MT</th>\n",
       "      <td>704</td>\n",
       "      <td>0.259943</td>\n",
       "    </tr>\n",
       "    <tr>\n",
       "      <th>AM</th>\n",
       "      <td>152</td>\n",
       "      <td>0.256579</td>\n",
       "    </tr>\n",
       "    <tr>\n",
       "      <th>MA</th>\n",
       "      <td>903</td>\n",
       "      <td>0.255814</td>\n",
       "    </tr>\n",
       "    <tr>\n",
       "      <th>BA</th>\n",
       "      <td>3528</td>\n",
       "      <td>0.253968</td>\n",
       "    </tr>\n",
       "    <tr>\n",
       "      <th>AP</th>\n",
       "      <td>75</td>\n",
       "      <td>0.253333</td>\n",
       "    </tr>\n",
       "    <tr>\n",
       "      <th>AL</th>\n",
       "      <td>527</td>\n",
       "      <td>0.248577</td>\n",
       "    </tr>\n",
       "    <tr>\n",
       "      <th>TO</th>\n",
       "      <td>282</td>\n",
       "      <td>0.248227</td>\n",
       "    </tr>\n",
       "    <tr>\n",
       "      <th>ES</th>\n",
       "      <td>2229</td>\n",
       "      <td>0.246747</td>\n",
       "    </tr>\n",
       "    <tr>\n",
       "      <th>SC</th>\n",
       "      <td>3300</td>\n",
       "      <td>0.245152</td>\n",
       "    </tr>\n",
       "    <tr>\n",
       "      <th>GO</th>\n",
       "      <td>1875</td>\n",
       "      <td>0.242133</td>\n",
       "    </tr>\n",
       "    <tr>\n",
       "      <th>DF</th>\n",
       "      <td>1714</td>\n",
       "      <td>0.240373</td>\n",
       "    </tr>\n",
       "    <tr>\n",
       "      <th>MG</th>\n",
       "      <td>11970</td>\n",
       "      <td>0.239265</td>\n",
       "    </tr>\n",
       "    <tr>\n",
       "      <th>RN</th>\n",
       "      <td>667</td>\n",
       "      <td>0.233883</td>\n",
       "    </tr>\n",
       "    <tr>\n",
       "      <th>SP</th>\n",
       "      <td>36133</td>\n",
       "      <td>0.232142</td>\n",
       "    </tr>\n",
       "    <tr>\n",
       "      <th>RS</th>\n",
       "      <td>4847</td>\n",
       "      <td>0.230658</td>\n",
       "    </tr>\n",
       "    <tr>\n",
       "      <th>SE</th>\n",
       "      <td>390</td>\n",
       "      <td>0.225641</td>\n",
       "    </tr>\n",
       "    <tr>\n",
       "      <th>PB</th>\n",
       "      <td>628</td>\n",
       "      <td>0.222930</td>\n",
       "    </tr>\n",
       "    <tr>\n",
       "      <th>PE</th>\n",
       "      <td>2119</td>\n",
       "      <td>0.222275</td>\n",
       "    </tr>\n",
       "    <tr>\n",
       "      <th>PR</th>\n",
       "      <td>4993</td>\n",
       "      <td>0.214701</td>\n",
       "    </tr>\n",
       "    <tr>\n",
       "      <th>RO</th>\n",
       "      <td>249</td>\n",
       "      <td>0.188755</td>\n",
       "    </tr>\n",
       "    <tr>\n",
       "      <th>RR</th>\n",
       "      <td>54</td>\n",
       "      <td>0.185185</td>\n",
       "    </tr>\n",
       "    <tr>\n",
       "      <th>AC</th>\n",
       "      <td>63</td>\n",
       "      <td>0.126984</td>\n",
       "    </tr>\n",
       "  </tbody>\n",
       "</table>\n",
       "</div>"
      ],
      "text/plain": [
       "                 size      mean\n",
       "reviewer_state                 \n",
       "PI                516  0.281008\n",
       "MS                613  0.269168\n",
       "CE               1569  0.267686\n",
       "RJ              12785  0.264529\n",
       "PA               1100  0.260000\n",
       "MT                704  0.259943\n",
       "AM                152  0.256579\n",
       "MA                903  0.255814\n",
       "BA               3528  0.253968\n",
       "AP                 75  0.253333\n",
       "AL                527  0.248577\n",
       "TO                282  0.248227\n",
       "ES               2229  0.246747\n",
       "SC               3300  0.245152\n",
       "GO               1875  0.242133\n",
       "DF               1714  0.240373\n",
       "MG              11970  0.239265\n",
       "RN                667  0.233883\n",
       "SP              36133  0.232142\n",
       "RS               4847  0.230658\n",
       "SE                390  0.225641\n",
       "PB                628  0.222930\n",
       "PE               2119  0.222275\n",
       "PR               4993  0.214701\n",
       "RO                249  0.188755\n",
       "RR                 54  0.185185\n",
       "AC                 63  0.126984"
      ]
     },
     "execution_count": 16,
     "metadata": {},
     "output_type": "execute_result"
    }
   ],
   "source": [
    "X_train.groupby('reviewer_state')['is_negative_review'].agg(['size', 'mean']).sort_values('mean', ascending = False)"
   ]
  },
  {
   "cell_type": "markdown",
   "id": "28e0035e-29a1-460e-973b-caae0ac4da08",
   "metadata": {},
   "source": [
    "Os estados têm uma média de avaliações negativas parecidas entre sim, mostrando que essa variável tem pouco valor preditivo."
   ]
  },
  {
   "cell_type": "markdown",
   "id": "74ab4072-48f3-4d0f-ac8f-00d91916dfe9",
   "metadata": {},
   "source": [
    "## Feature Engineering"
   ]
  },
  {
   "cell_type": "markdown",
   "id": "1d591d57-694c-4ef3-830d-4e96abebe0ab",
   "metadata": {},
   "source": [
    "É possível criar novas variáveis a partir das existentes no dataset:"
   ]
  },
  {
   "cell_type": "code",
   "execution_count": 17,
   "id": "684c2567-e1d7-41cb-9e77-83892d303c1d",
   "metadata": {
    "tags": []
   },
   "outputs": [],
   "source": [
    "# Lower case\n",
    "X_train['review_text'] = X_train['review_text'].str.lower()\n",
    "# Add num words of comment as feature\n",
    "X_train['num_palavras'] = X_train['review_text'].apply(lambda s: len(s.split()))\n",
    "# Add num words unique of comment as feature\n",
    "X_train['num_palavras_unicas'] = X_train['review_text'].apply(lambda s: len(set(w for w in s.split())))\n",
    "# Add num words unique per num words of comment as feature\n",
    "X_train['palavras_vs_unicas'] = 100 * X_train['num_palavras_unicas'] / X_train['num_palavras']"
   ]
  },
  {
   "cell_type": "code",
   "execution_count": 18,
   "id": "641a2571-3619-47c8-918b-f00778924069",
   "metadata": {
    "tags": []
   },
   "outputs": [
    {
     "data": {
      "text/html": [
       "<div>\n",
       "<style scoped>\n",
       "    .dataframe tbody tr th:only-of-type {\n",
       "        vertical-align: middle;\n",
       "    }\n",
       "\n",
       "    .dataframe tbody tr th {\n",
       "        vertical-align: top;\n",
       "    }\n",
       "\n",
       "    .dataframe thead th {\n",
       "        text-align: right;\n",
       "    }\n",
       "</style>\n",
       "<table border=\"1\" class=\"dataframe\">\n",
       "  <thead>\n",
       "    <tr style=\"text-align: right;\">\n",
       "      <th></th>\n",
       "      <th>overall_rating</th>\n",
       "      <th>reviewer_birth_year</th>\n",
       "      <th>num_palavras</th>\n",
       "      <th>num_palavras_unicas</th>\n",
       "      <th>palavras_vs_unicas</th>\n",
       "    </tr>\n",
       "  </thead>\n",
       "  <tbody>\n",
       "    <tr>\n",
       "      <th>count</th>\n",
       "      <td>96823.000000</td>\n",
       "      <td>92517.000000</td>\n",
       "      <td>96823.00000</td>\n",
       "      <td>96823.000000</td>\n",
       "      <td>96823.000000</td>\n",
       "    </tr>\n",
       "    <tr>\n",
       "      <th>mean</th>\n",
       "      <td>3.523388</td>\n",
       "      <td>1977.499184</td>\n",
       "      <td>23.02078</td>\n",
       "      <td>20.110346</td>\n",
       "      <td>92.693067</td>\n",
       "    </tr>\n",
       "    <tr>\n",
       "      <th>std</th>\n",
       "      <td>1.515397</td>\n",
       "      <td>22.751907</td>\n",
       "      <td>22.16164</td>\n",
       "      <td>15.634868</td>\n",
       "      <td>9.273506</td>\n",
       "    </tr>\n",
       "    <tr>\n",
       "      <th>min</th>\n",
       "      <td>1.000000</td>\n",
       "      <td>59.000000</td>\n",
       "      <td>1.00000</td>\n",
       "      <td>1.000000</td>\n",
       "      <td>0.628931</td>\n",
       "    </tr>\n",
       "    <tr>\n",
       "      <th>0%</th>\n",
       "      <td>1.000000</td>\n",
       "      <td>59.000000</td>\n",
       "      <td>1.00000</td>\n",
       "      <td>1.000000</td>\n",
       "      <td>0.628931</td>\n",
       "    </tr>\n",
       "    <tr>\n",
       "      <th>3%</th>\n",
       "      <td>1.000000</td>\n",
       "      <td>1951.000000</td>\n",
       "      <td>7.00000</td>\n",
       "      <td>7.000000</td>\n",
       "      <td>73.770492</td>\n",
       "    </tr>\n",
       "    <tr>\n",
       "      <th>25%</th>\n",
       "      <td>2.000000</td>\n",
       "      <td>1969.000000</td>\n",
       "      <td>11.00000</td>\n",
       "      <td>11.000000</td>\n",
       "      <td>88.235294</td>\n",
       "    </tr>\n",
       "    <tr>\n",
       "      <th>50%</th>\n",
       "      <td>4.000000</td>\n",
       "      <td>1980.000000</td>\n",
       "      <td>16.00000</td>\n",
       "      <td>15.000000</td>\n",
       "      <td>94.444444</td>\n",
       "    </tr>\n",
       "    <tr>\n",
       "      <th>75%</th>\n",
       "      <td>5.000000</td>\n",
       "      <td>1987.000000</td>\n",
       "      <td>27.00000</td>\n",
       "      <td>24.000000</td>\n",
       "      <td>100.000000</td>\n",
       "    </tr>\n",
       "    <tr>\n",
       "      <th>90%</th>\n",
       "      <td>5.000000</td>\n",
       "      <td>1993.000000</td>\n",
       "      <td>45.00000</td>\n",
       "      <td>38.000000</td>\n",
       "      <td>100.000000</td>\n",
       "    </tr>\n",
       "    <tr>\n",
       "      <th>95%</th>\n",
       "      <td>5.000000</td>\n",
       "      <td>1995.000000</td>\n",
       "      <td>61.00000</td>\n",
       "      <td>50.000000</td>\n",
       "      <td>100.000000</td>\n",
       "    </tr>\n",
       "    <tr>\n",
       "      <th>97%</th>\n",
       "      <td>5.000000</td>\n",
       "      <td>1997.000000</td>\n",
       "      <td>75.00000</td>\n",
       "      <td>59.000000</td>\n",
       "      <td>100.000000</td>\n",
       "    </tr>\n",
       "    <tr>\n",
       "      <th>max</th>\n",
       "      <td>5.000000</td>\n",
       "      <td>2018.000000</td>\n",
       "      <td>795.00000</td>\n",
       "      <td>287.000000</td>\n",
       "      <td>100.000000</td>\n",
       "    </tr>\n",
       "  </tbody>\n",
       "</table>\n",
       "</div>"
      ],
      "text/plain": [
       "       overall_rating  reviewer_birth_year  num_palavras  num_palavras_unicas  \\\n",
       "count    96823.000000         92517.000000   96823.00000         96823.000000   \n",
       "mean         3.523388          1977.499184      23.02078            20.110346   \n",
       "std          1.515397            22.751907      22.16164            15.634868   \n",
       "min          1.000000            59.000000       1.00000             1.000000   \n",
       "0%           1.000000            59.000000       1.00000             1.000000   \n",
       "3%           1.000000          1951.000000       7.00000             7.000000   \n",
       "25%          2.000000          1969.000000      11.00000            11.000000   \n",
       "50%          4.000000          1980.000000      16.00000            15.000000   \n",
       "75%          5.000000          1987.000000      27.00000            24.000000   \n",
       "90%          5.000000          1993.000000      45.00000            38.000000   \n",
       "95%          5.000000          1995.000000      61.00000            50.000000   \n",
       "97%          5.000000          1997.000000      75.00000            59.000000   \n",
       "max          5.000000          2018.000000     795.00000           287.000000   \n",
       "\n",
       "       palavras_vs_unicas  \n",
       "count        96823.000000  \n",
       "mean            92.693067  \n",
       "std              9.273506  \n",
       "min              0.628931  \n",
       "0%               0.628931  \n",
       "3%              73.770492  \n",
       "25%             88.235294  \n",
       "50%             94.444444  \n",
       "75%            100.000000  \n",
       "90%            100.000000  \n",
       "95%            100.000000  \n",
       "97%            100.000000  \n",
       "max            100.000000  "
      ]
     },
     "execution_count": 18,
     "metadata": {},
     "output_type": "execute_result"
    }
   ],
   "source": [
    "X_train.describe(percentiles = [0, 0.03, .25, .75, .90, .95, .97])"
   ]
  },
  {
   "cell_type": "markdown",
   "id": "1876a252-af8f-40c1-8a80-f50ed39a9cf5",
   "metadata": {},
   "source": [
    "Algumas das variáveis contem outliers, como comentários com 795 palavras. Apesar de outliers assim serem facilmente tratados pelos modelos como os de gradient boosting, eles atrapalham a visualização de dados, portanto serão removidos apenas nesta etapa de EDA."
   ]
  },
  {
   "cell_type": "code",
   "execution_count": 19,
   "id": "f566104b-a759-4255-b9d8-9c9bf2ef2663",
   "metadata": {
    "tags": []
   },
   "outputs": [],
   "source": [
    "X_train_clean = X_train[X_train['num_palavras'] <= 75] \n",
    "X_train_clean = X_train_clean[X_train_clean['reviewer_birth_year'] >= 1951]"
   ]
  },
  {
   "cell_type": "code",
   "execution_count": 20,
   "id": "f6417a0a-36d1-4bd3-9834-c8ddf47ac750",
   "metadata": {
    "tags": []
   },
   "outputs": [
    {
     "data": {
      "image/png": "[encoded data removed]",
      "text/plain": [
       "<Figure size 1800x800 with 6 Axes>"
      ]
     },
     "metadata": {},
     "output_type": "display_data"
    }
   ],
   "source": [
    "fig, axes = plt.subplots(ncols=3, nrows = 2, figsize=(18,8))\n",
    "\n",
    "\n",
    "# num_palavras\n",
    "sns.kdeplot(data = X_train_clean, x = 'num_palavras', hue = 'is_negative_review', ax=axes[0, 0])\n",
    "sns.ecdfplot(data = X_train_clean, x = 'num_palavras', hue = 'is_negative_review', ax=axes[1, 0], legend=False)\n",
    "# \n",
    "sns.kdeplot(data = X_train_clean, x = 'num_palavras_unicas', hue = 'is_negative_review', log_scale = True, ax=axes[0, 1], legend=False)\n",
    "sns.ecdfplot(data = X_train_clean, x = 'num_palavras_unicas', hue = 'is_negative_review', ax=axes[1, 1], legend=False)\n",
    "\n",
    "sns.histplot(data = X_train_clean, x = 'palavras_vs_unicas', hue = 'is_negative_review', ax=axes[0, 2], legend=False)\n",
    "sns.kdeplot(data = X_train_clean, x = 'palavras_vs_unicas', hue = 'is_negative_review', ax=axes[1, 2], legend=False)\n",
    "\n",
    "plt.show()"
   ]
  },
  {
   "cell_type": "markdown",
   "id": "3f8923eb-a3e0-4485-89ba-17654c351243",
   "metadata": {},
   "source": [
    "Os gráficos mostram resultados interessantes: 60% das avaliações negativas contem até 30 palavras versus 80% das positivas. Isto é, avaliações negativas possuem mais palavras. "
   ]
  },
  {
   "cell_type": "markdown",
   "id": "2d742e3c-538d-4f93-b96f-795c473eb714",
   "metadata": {},
   "source": [
    "### TF-IDF\n",
    "\n",
    "TF-IDF é uma técnica utilizada na área de NLP que tem como objetivo avaliar a importância de uma palavra em um documento. É calculado levando em consideração dois fatores principais: a frequência com que um termo aparece em um documento (TF) e o número de documentos que contêm esse termo (IDF). A frequência de termo é simplesmente a contagem de quantas vezes uma palavra específica aparece em um documento, enquanto a inverso de frequência de documento é uma medida da raridade de um termo em uma coleção de documentos.\n",
    "\n",
    "Em geral, as palavras que aparecem com frequência em um determinado documento, mas raramente aparecem em outros documentos, são consideradas mais importantes e relevantes para esse documento em particular. Portanto, o TF-IDF atribui um peso maior a essas palavras, em comparação com palavras que aparecem com frequência em todos os documentos.\n",
    "\n",
    "O TF-IDF é usado em problemas de classificação em machine learning, porque pode ajudar a identificar as palavras-chave que são mais importantes para diferenciar diferentes classes de documentos.\n",
    "\n",
    "[Eu mesmo já usei TF-IDF no passado](http://sillasgonzaga.com/post/analise-g1-01/) para analisar palavras de destaque comparando notícias de São Paulo com notícias do Rio de Janeiro.\n",
    "\n",
    "Assim, parece natural usar TF-IDF no contexto deste projeto."
   ]
  },
  {
   "cell_type": "code",
   "execution_count": 21,
   "id": "45679324-9340-45b1-9378-f4fd3760af61",
   "metadata": {
    "tags": []
   },
   "outputs": [],
   "source": [
    "vectorizer = TfidfVectorizer()"
   ]
  },
  {
   "cell_type": "code",
   "execution_count": 22,
   "id": "46d59bea-5bc7-4c12-96ae-7b7777d32948",
   "metadata": {
    "tags": []
   },
   "outputs": [],
   "source": [
    "X_train_tfidf = vectorizer.fit_transform(X_train['review_text'])\n",
    "X_test_tfidf = vectorizer.transform(X_test['review_text'])"
   ]
  },
  {
   "cell_type": "markdown",
   "id": "d2378546-9815-4c3f-b8a5-39328ae7811f",
   "metadata": {},
   "source": [
    "# Modelagem"
   ]
  },
  {
   "cell_type": "markdown",
   "id": "e4ae8d4a-f050-467d-95ba-f6f502b0f11d",
   "metadata": {},
   "source": [
    "Foi construída uma classe para facilitar e automatizar o processo de ajuste, predição e análise de dois modelos: xgboost e lightgbm.\n",
    "\n",
    "Apenas as variáveis criadas com TF-IDF foram usadas como input nos modelos."
   ]
  },
  {
   "cell_type": "code",
   "execution_count": 23,
   "id": "e3bcc13f-2398-4cd7-8525-dc177ada1027",
   "metadata": {
    "tags": []
   },
   "outputs": [],
   "source": [
    "class ModelMetadata:\n",
    "    \"\"\"\n",
    "    Classe para armazenar e analisar metadados de um modelo de classificação.\n",
    "\n",
    "    Métodos:\n",
    "    --------\n",
    "    plot_probabilities():\n",
    "        Traça uma ECDF das probabilidades previstas da classe positiva para o conjunto de testes.\n",
    "\n",
    "    set_probability_threshold():\n",
    "        Define o limite para converter as probabilidades previstas em previsões binárias.\n",
    "\n",
    "    plot_confusion_matrix():\n",
    "        Plota a matriz de confusão para o modelo ajustado usando as probabilidades previstas e as etiquetas verdadeiras para o conjunto de testes.\n",
    "\n",
    "    get_classification_metrics():\n",
    "        Retorna um dicionário de métricas de classificação para o modelo ajustado usando as probabilidades previstas e as etiquetas verdadeiras para o conjunto de testes.\n",
    "\n",
    "    plot_metrics_by_threshold():\n",
    "        Plota a taxa de alarme falso e a taxa de falha por valor de limite.\n",
    "        \n",
    "    get_prediction_api():\n",
    "        Retorna a previsão do modelo para um input em um estilo API.\n",
    "    \"\"\"\n",
    "\n",
    "    \n",
    "    def __init__(self,\n",
    "                 model_id: str,\n",
    "                 model_params_grid_search: Dict[str, Any],\n",
    "                 model_classifier: Any,\n",
    "                 y_train: pd.Series = y_train,\n",
    "                 X_train: csr_matrix = X_train_tfidf,\n",
    "                 X_test: csr_matrix = X_test_tfidf,\n",
    "                 y_true: pd.Series = y_test,\n",
    "                 tf_idf_vectorizer: TfidfVectorizer = vectorizer):\n",
    "        \"\"\"\n",
    "        Inicializa o objeto ModelMetadata.\n",
    "\n",
    "        Parâmetros:\n",
    "        -----------\n",
    "        model_id: str\n",
    "            O ID do modelo.\n",
    "        model_params_grid_search: Dict[str, Any]\n",
    "            O dicionário de parâmetros do modelo a ser avaliado em uma etapa de busca em grade.\n",
    "            Se None, o código não realizará tuning de parametros.\n",
    "        model_classifier: Any\n",
    "            O modelo de classificação a ser ajustado e analisado.\n",
    "        y_train: pd.Series\n",
    "            A variável target da amostra de treino.\n",
    "        X_train: csr_matrix\n",
    "            A matriz de input da amostra de treino.\n",
    "        X_test: csr_matrix\n",
    "            A matriz de input da amostra de teste.\n",
    "        y_true: pd.Series\n",
    "            A variável target da amostra de teste.\n",
    "        tf_idf_vectorizer: TfidfVectorizer\n",
    "            Objeto que transforma uma serie em uma matriz tf-idf.\n",
    "        \"\"\"\n",
    "\n",
    "        self.model_id = model_id\n",
    "        self.X_train = X_train\n",
    "        self.y_train = y_train\n",
    "        self.X_test = X_test\n",
    "        self.y_true = y_true\n",
    "        \n",
    "        \n",
    "        self.model_fitted = model_classifier\n",
    "        self.model_params_grid_search = model_params_grid_search\n",
    "        \n",
    "        if self.model_params_grid_search is not None:\n",
    "            self.model_fitted = GridSearchCV(self.model_fitted, self.model_params_grid_search, cv=3)\n",
    "        self.model_fitted.fit(self.X_train, self.y_train)\n",
    "        \n",
    "        if self.model_params_grid_search is not None:\n",
    "            self.best_params = self.model_fitted.best_params_\n",
    "        else:\n",
    "            self.best_params = self.model_fitted.get_params()\n",
    "        \n",
    "        self.y_pred_prob = self.model_fitted.predict_proba(self.X_test)[:, 1]\n",
    "        self.tf_idf_vectorizer = tf_idf_vectorizer\n",
    "        \n",
    "        \n",
    "        \n",
    "    def plot_probabilities(self, ax = None):\n",
    "        \"\"\"\n",
    "        Plots an ECDF of the predicted probabilities of the positive class for the testing dataset.\n",
    "        \"\"\"\n",
    "        plt.figure(figsize = (12, 4))\n",
    "        sns.ecdfplot(pd.Series(self.y_pred_prob), ax = ax)\n",
    "        ticks = np.arange(0, 1.01, .05)\n",
    "        plt.xticks(ticks)\n",
    "        plt.yticks(ticks)\n",
    "        plt.title(self.model_id)\n",
    "\n",
    "        plt.show()\n",
    "        \n",
    "        \n",
    "    def set_probability_threshold(self, threshold: float):\n",
    "        \"\"\"\n",
    "        Sets the threshold for converting the predicted probabilities to binary predictions.\n",
    "\n",
    "        Parameters:\n",
    "        -----------\n",
    "        threshold: float\n",
    "            The threshold value between 0 and 1.\n",
    "        \"\"\"\n",
    "        self.threshold = threshold\n",
    "        \n",
    "        \n",
    "    def plot_tree(self, save_to_pdf: bool = True):\n",
    "        \"\"\"\n",
    "        Plots the decision tree for the fitted model if it is a DecisionTreeClassifier.\n",
    "\n",
    "        Parameters:\n",
    "        -----------\n",
    "        save_to_pdf: bool\n",
    "            Whether to save the plot as a PDF file.\n",
    "        \"\"\"\n",
    "        if self.model_params_grid_search is not None:\n",
    "            model = self.model_fitted.best_estimator_\n",
    "        else:\n",
    "            model = self.model_fitted\n",
    "            \n",
    "        if not isinstance(model, tree.DecisionTreeClassifier):\n",
    "            print('Tree plot only available for DecisionTreeClassifier')\n",
    "            return None\n",
    "        \n",
    "        fig = plt.figure(figsize = (12, 10))\n",
    "        tree.plot_tree(model, feature_names = self.features, filled = True)\n",
    "        if save_to_pdf:\n",
    "            fig.savefig(\"decision_tree.pdf\")\n",
    "    \n",
    "            \n",
    "    def plot_confusion_matrix(self):\n",
    "        \"\"\"\n",
    "        Plots the confusion matrix for the fitted model using the predicted probabilities and true labels for the testing dataset.\n",
    "        \"\"\"\n",
    "        # get model predictions\n",
    "        y_pred_bin = np.where(self.y_pred_prob >= self.threshold, 1, 0)\n",
    "\n",
    "        cm = metrics.confusion_matrix(self.y_true, y_pred_bin)\n",
    "        cm_plot = metrics.ConfusionMatrixDisplay(cm, display_labels = self.model_fitted.classes_)\n",
    "\n",
    "        cm_plot.plot()\n",
    "        plt.tick_params(axis=u'both', which=u'both',length=0)\n",
    "        plt.show()\n",
    "        \n",
    "    def get_classification_metrics(self, threshold:float = None) -> Dict[str, Union[str, float]]:\n",
    "        \"\"\"\n",
    "        Returns a dictionary of classification metrics for the fitted model using the predicted probabilities and true labels for the testing dataset.\n",
    "\n",
    "        Parameters:\n",
    "        -----------\n",
    "        threshold: float\n",
    "            The threshold used to transform probabilities into binary.\n",
    "\n",
    "        Returns:\n",
    "        --------\n",
    "        Dict[str, Union[str, float]]\n",
    "            A dictionary of classification metrics, including the model ID, AUC, False Alarm Rate, and Miss Rate.\n",
    "        \"\"\"\n",
    "        \n",
    "        if threshold is None and self.threshold is not None:\n",
    "            threshold = self.threshold\n",
    "        \n",
    "        # convert probabilistic to binary\n",
    "        y_pred_bin = self.y_pred_prob >= threshold\n",
    "        # convert y_true to integer binary\n",
    "        y_true = self.y_true.values\n",
    "\n",
    "        auc = metrics.roc_auc_score(y_true = y_true, y_score = self.y_pred_prob)\n",
    "                \n",
    "        cm = metrics.confusion_matrix(self.y_true, y_pred_bin)\n",
    "        tn, fp, fn, tp = cm.ravel()        \n",
    "        \n",
    "        fpr = fp / (fp + tn)\n",
    "        fnr = fn / (tp + fn)\n",
    "        \n",
    "        # retornar resultados\n",
    "        dict_out = {\n",
    "            'model_id': self.model_id,\n",
    "            'AUC': np.round(auc, 4),\n",
    "            'False Alarm Rate': np.round(fpr, 4),\n",
    "            'Miss Rate': np.round(fnr, 4),\n",
    "               }\n",
    "\n",
    "        return(dict_out)\n",
    "\n",
    "    def plot_metrics_by_threshold(self, ax = None):\n",
    "        \"\"\"\n",
    "        Plots the False Alarm Rate and Miss Rate metrics by threshold value.\n",
    "        \"\"\"\n",
    "        thresholds = np.arange(0, 1.01, .05)\n",
    "        \n",
    "        fpr_list = []\n",
    "        fnr_list = []\n",
    "        for t in thresholds:\n",
    "            out = self.get_classification_metrics(t)\n",
    "            fpr_list.append(out['False Alarm Rate'])\n",
    "            fnr_list.append(out['Miss Rate'])\n",
    "            \n",
    "        \n",
    "        df_to_plot = pd.DataFrame({'threshold': thresholds, 'False Alarm Rate': fpr_list, 'Miss Rate': fnr_list})\n",
    "        df_to_plot = df_to_plot.melt(id_vars = 'threshold', var_name = 'metric')\n",
    "        \n",
    "        plt.figure(figsize = (12, 6))\n",
    "        sns.lineplot(data = df_to_plot, x = 'threshold', y = 'value', hue = 'metric', ax = ax)\n",
    "        plt.xticks(thresholds)\n",
    "        plt.yticks(thresholds)\n",
    "        plt.title(self.model_id)\n",
    "        plt.show()\n",
    "    \n",
    "    def get_prediction_api(self, new_data: Dict[str, str]) -> Dict[str, Union[float, bool]]:\n",
    "        \"\"\"\n",
    "        A função \"get_prediction_api\" é destinada a ser usada em um ambiente de produção como uma API. \n",
    "\n",
    "        Dado um novo conjunto de dados, a função retorna um dicionário contendo a estimativa da probabilidade\n",
    "        de ser um comentário negativo e sua transformação binária considerando o threshold.\n",
    "\n",
    "        Parameters:\n",
    "        -----------\n",
    "        new_data: Dict[str, str]\n",
    "            Os dados de input para obter a previsão. Deverá ser um dicionário no formato abaixo:\n",
    "            {\"review_text\": \"{texto a ser transformado em tf-idf}\"}\n",
    "\n",
    "        Returns:\n",
    "        -----------\n",
    "        Dict[str, Union[float, bool]\n",
    "            Dicionario da probabilidade estimada de ser comentario negativo e a resposta binaria do modelo.\n",
    "        \"\"\"\n",
    "\n",
    "        new_data_df = pd.DataFrame(new_data, index = [0])\n",
    "        new_data_df = self.tf_idf_vectorizer.transform(new_data_df['review_text'])\n",
    "\n",
    "        prediction_prob = self.model_fitted.predict_proba(new_data_df)[:, 1][0]\n",
    "        prediction_binary = prediction_prob >= self.threshold\n",
    "\n",
    "        return {'probabilidade': prediction_prob, 'eh_negativo': prediction_binary}\n"
   ]
  },
  {
   "cell_type": "markdown",
   "id": "89c9bc6a-b0af-4cec-b4bd-f261e4fc07ac",
   "metadata": {},
   "source": [
    "Devido a limitações computacionais, a pesquisa de parâmetros foi bem simples: apenas dois valores possíveis para um único parâmetro, learning_rate. Com mais tempo e melhores recursos, poderíamos testar mais possibilidades para tunar os parâmetros."
   ]
  },
  {
   "cell_type": "code",
   "execution_count": 24,
   "id": "5d9b9925-0522-4fb0-bc25-1ba0657c1ee0",
   "metadata": {
    "tags": []
   },
   "outputs": [],
   "source": [
    "param_grid = {\n",
    "    'learning_rate': [0.01, 0.1]\n",
    "}\n",
    "\n",
    "\n",
    "xgb_model = ModelMetadata(model_id = 'xgboost',\n",
    "                          model_params_grid_search = param_grid,\n",
    "                          model_classifier = xgb.XGBClassifier(objective='binary:logistic', random_state=42))\n",
    "\n",
    "lightgbm_model = ModelMetadata(model_id = 'lightgbm', \n",
    "                               model_params_grid_search = param_grid,\n",
    "                               model_classifier = lgb.LGBMClassifier(random_state = 42))"
   ]
  },
  {
   "cell_type": "code",
   "execution_count": 25,
   "id": "096afdd8-8b96-414b-8f9a-c76336dd456b",
   "metadata": {
    "tags": []
   },
   "outputs": [],
   "source": [
    "lst_models = [xgb_model, lightgbm_model]"
   ]
  },
  {
   "cell_type": "markdown",
   "id": "12777911-45e5-43f1-a99c-0efdddc2bbf7",
   "metadata": {},
   "source": [
    "Plotando a distribuição das probabilidades."
   ]
  },
  {
   "cell_type": "code",
   "execution_count": 26,
   "id": "215a505c-1385-47b0-980a-7205a0b4f542",
   "metadata": {
    "tags": []
   },
   "outputs": [
    {
     "data": {
      "image/png": "[encoded data removed]",
      "text/plain": [
       "<Figure size 1200x400 with 1 Axes>"
      ]
     },
     "metadata": {},
     "output_type": "display_data"
    },
    {
     "data": {
      "image/png": "[encoded data removed]",
      "text/plain": [
       "<Figure size 1200x400 with 1 Axes>"
      ]
     },
     "metadata": {},
     "output_type": "display_data"
    }
   ],
   "source": [
    "for model in lst_models:\n",
    "    model.plot_probabilities()\n"
   ]
  },
  {
   "cell_type": "markdown",
   "id": "027f81ed-58a2-4bee-999e-80ed8c309565",
   "metadata": {},
   "source": [
    "A distribuição das probabilidades dos dois modelos é parecida: aproximadamente 65% dos casos nos dois modelos obtiveram aproximadamente 20% de probabilidade de serem negativos."
   ]
  },
  {
   "cell_type": "code",
   "execution_count": 27,
   "id": "ee5d6c45-229a-4536-b5aa-839a34de35ea",
   "metadata": {
    "tags": []
   },
   "outputs": [
    {
     "data": {
      "image/png": "[encoded data removed]",
      "text/plain": [
       "<Figure size 1200x600 with 1 Axes>"
      ]
     },
     "metadata": {},
     "output_type": "display_data"
    },
    {
     "data": {
      "image/png": "[encoded data removed]",
      "text/plain": [
       "<Figure size 1200x600 with 1 Axes>"
      ]
     },
     "metadata": {},
     "output_type": "display_data"
    }
   ],
   "source": [
    "for model in lst_models:\n",
    "    model.plot_metrics_by_threshold()"
   ]
  },
  {
   "cell_type": "markdown",
   "id": "279a92f6-003a-463c-9066-cbc89dbeeeb8",
   "metadata": {},
   "source": [
    "O gráfico acima auxilia a escolha de um valor de threshold para usar os modelos como binários: é natural que, quanto maior o threshold, mais comentários serão considerados negativos, o que diminui a taxa de falsos alarmes mas aumenta o Miss Rate. É interessante buscar um equilíbrio."
   ]
  },
  {
   "cell_type": "code",
   "execution_count": 28,
   "id": "f0d2a80f-78e1-4e66-a21f-0fbbe94a3115",
   "metadata": {
    "tags": []
   },
   "outputs": [],
   "source": [
    "lst_models[0].set_probability_threshold(0.25)\n",
    "lst_models[1].set_probability_threshold(0.30)"
   ]
  },
  {
   "cell_type": "markdown",
   "id": "eb295955-fbd4-4503-b4a7-c5b572c76c75",
   "metadata": {},
   "source": [
    "Defnidos os thresholds, podemos calcular a matriz de confusão e as métricas de classificação dos dois modelos:"
   ]
  },
  {
   "cell_type": "code",
   "execution_count": 29,
   "id": "cd706d59-eabd-4d3a-b1c9-b4c8575655e0",
   "metadata": {
    "tags": []
   },
   "outputs": [
    {
     "name": "stdout",
     "output_type": "stream",
     "text": [
      "xgboost\n"
     ]
    },
    {
     "data": {
      "image/png": "[encoded data removed]",
      "text/plain": [
       "<Figure size 640x480 with 2 Axes>"
      ]
     },
     "metadata": {},
     "output_type": "display_data"
    },
    {
     "name": "stdout",
     "output_type": "stream",
     "text": [
      "---------\n",
      "lightgbm\n"
     ]
    },
    {
     "data": {
      "image/png": "[encoded data removed]",
      "text/plain": [
       "<Figure size 640x480 with 2 Axes>"
      ]
     },
     "metadata": {},
     "output_type": "display_data"
    },
    {
     "name": "stdout",
     "output_type": "stream",
     "text": [
      "---------\n"
     ]
    }
   ],
   "source": [
    "for model in lst_models:\n",
    "    print(model.model_id)\n",
    "    model.plot_confusion_matrix()\n",
    "    print('---------')"
   ]
  },
  {
   "cell_type": "code",
   "execution_count": 30,
   "id": "b604b942-7d41-4be5-9482-fb7b5a8f38fa",
   "metadata": {
    "tags": []
   },
   "outputs": [
    {
     "data": {
      "text/html": [
       "<div>\n",
       "<style scoped>\n",
       "    .dataframe tbody tr th:only-of-type {\n",
       "        vertical-align: middle;\n",
       "    }\n",
       "\n",
       "    .dataframe tbody tr th {\n",
       "        vertical-align: top;\n",
       "    }\n",
       "\n",
       "    .dataframe thead th {\n",
       "        text-align: right;\n",
       "    }\n",
       "</style>\n",
       "<table border=\"1\" class=\"dataframe\">\n",
       "  <thead>\n",
       "    <tr style=\"text-align: right;\">\n",
       "      <th></th>\n",
       "      <th>model_id</th>\n",
       "      <th>AUC</th>\n",
       "      <th>False Alarm Rate</th>\n",
       "      <th>Miss Rate</th>\n",
       "    </tr>\n",
       "  </thead>\n",
       "  <tbody>\n",
       "    <tr>\n",
       "      <th>0</th>\n",
       "      <td>xgboost</td>\n",
       "      <td>0.9502</td>\n",
       "      <td>0.1265</td>\n",
       "      <td>0.1081</td>\n",
       "    </tr>\n",
       "    <tr>\n",
       "      <th>1</th>\n",
       "      <td>lightgbm</td>\n",
       "      <td>0.9632</td>\n",
       "      <td>0.0956</td>\n",
       "      <td>0.0972</td>\n",
       "    </tr>\n",
       "  </tbody>\n",
       "</table>\n",
       "</div>"
      ],
      "text/plain": [
       "   model_id     AUC  False Alarm Rate  Miss Rate\n",
       "0   xgboost  0.9502            0.1265     0.1081\n",
       "1  lightgbm  0.9632            0.0956     0.0972"
      ]
     },
     "execution_count": 30,
     "metadata": {},
     "output_type": "execute_result"
    }
   ],
   "source": [
    "pd.DataFrame([model.get_classification_metrics() for model in lst_models])\n"
   ]
  },
  {
   "cell_type": "markdown",
   "id": "220185f8-af3b-4bb3-a6c1-e83c7f7b45ff",
   "metadata": {},
   "source": [
    "O modelo lightgbm foi o melhor dos avaliados. Corretamente previu 7058 dos 7818 comentários negativos, tendo um Miss Rate de apenas 9,7%. Também possui um melhor resultado de False Alarm Rate, tendo corretamente previsto 22119 dos 24457 dos comentários positivos (9,56%)"
   ]
  },
  {
   "cell_type": "markdown",
   "id": "08897f9d-ced0-4267-82ef-062a543f466a",
   "metadata": {},
   "source": [
    "## Deploy"
   ]
  },
  {
   "cell_type": "markdown",
   "id": "95ab3bc0-1307-4f90-b4fd-1ea5e439b07a",
   "metadata": {},
   "source": [
    "A classe ModelMetadata já possui um método que facilita o uso do objeto do modelo em um ambiente de produção.\n",
    "\n",
    "Vamos testar o modelo lightgbm em um exemplo facilmente negativo:"
   ]
  },
  {
   "cell_type": "code",
   "execution_count": 31,
   "id": "b9891c8e-05da-4a3b-9965-a7aa4af6e59e",
   "metadata": {
    "tags": []
   },
   "outputs": [
    {
     "data": {
      "text/plain": [
       "{'probabilidade': 0.9660277541972181, 'eh_negativo': True}"
      ]
     },
     "execution_count": 31,
     "metadata": {},
     "output_type": "execute_result"
    }
   ],
   "source": [
    "new_data = {'review_text': 'este produto é um lixo total, odiei, nunca mais compro desta marca. simplesmente não funciona. frete demorado.'}\n",
    "\n",
    "lightgbm_model.get_prediction_api(new_data)"
   ]
  }
 ],
 "metadata": {
  "kernelspec": {
   "display_name": "Python 3 (ipykernel)",
   "language": "python",
   "name": "python3"
  },
  "language_info": {
   "codemirror_mode": {
    "name": "ipython",
    "version": 3
   },
   "file_extension": ".py",
   "mimetype": "text/x-python",
   "name": "python",
   "nbconvert_exporter": "python",
   "pygments_lexer": "ipython3",
   "version": "3.8.10"
  }
 },
 "nbformat": 4,
 "nbformat_minor": 5
}
